{
 "cells": [
  {
   "cell_type": "code",
   "execution_count": 3,
   "metadata": {},
   "outputs": [
    {
     "name": "stderr",
     "output_type": "stream",
     "text": [
      "c:\\Users\\Administrator\\AppData\\Local\\Programs\\Python\\Python310\\lib\\site-packages\\tqdm\\auto.py:22: TqdmWarning: IProgress not found. Please update jupyter and ipywidgets. See https://ipywidgets.readthedocs.io/en/stable/user_install.html\n",
      "  from .autonotebook import tqdm as notebook_tqdm\n",
      "c:\\Users\\Administrator\\AppData\\Local\\Programs\\Python\\Python310\\lib\\site-packages\\_distutils_hack\\__init__.py:33: UserWarning: Setuptools is replacing distutils.\n",
      "  warnings.warn(\"Setuptools is replacing distutils.\")\n",
      "\u001b[32m[2023-04-25 09:24:55,456] [    INFO]\u001b[0m - Already cached C:\\Users\\Administrator\\.paddlenlp\\models\\ernie-1.0\\vocab.txt\u001b[0m\n",
      "\u001b[32m[2023-04-25 09:24:55,471] [    INFO]\u001b[0m - tokenizer config file saved in C:\\Users\\Administrator\\.paddlenlp\\models\\ernie-1.0\\tokenizer_config.json\u001b[0m\n",
      "\u001b[32m[2023-04-25 09:24:55,473] [    INFO]\u001b[0m - Special tokens file saved in C:\\Users\\Administrator\\.paddlenlp\\models\\ernie-1.0\\special_tokens_map.json\u001b[0m\n"
     ]
    }
   ],
   "source": [
    "from paddlenlp import Taskflow\n",
    "from xpinyin import Pinyin\n",
    "tagger = Taskflow(\"pos_tagging\")\n",
    "corrector = Taskflow(\"text_correction\") # ernie\n"
   ]
  },
  {
   "cell_type": "code",
   "execution_count": 4,
   "metadata": {},
   "outputs": [
    {
     "data": {
      "text/plain": [
       "1"
      ]
     },
     "execution_count": 4,
     "metadata": {},
     "output_type": "execute_result"
    }
   ],
   "source": [
    "def getEditDistance(s, t):\n",
    "    def Minimum(a, b, c):\n",
    "        im = a if a < b else b\n",
    "        return im if im < c else c\n",
    "    p = Pinyin()\n",
    "    s = p.get_pinyin(s, ',', tone_marks='numbers')\n",
    "    t = p.get_pinyin(t, ',', tone_marks='numbers')\n",
    "    n = len(s)\n",
    "    m = len(t)\n",
    "    if n == 0 :\n",
    "        return m\n",
    "    if m == 0 :\n",
    "        return n\n",
    "    d = [([0] * (m + 1)) for i in range(n + 1)]\n",
    "    for i in range(0, n + 1):\n",
    "        d[i][0] = i\n",
    "    for j in range(0, m + 1):\n",
    "        d[0][j] = j\n",
    "    for i in range(1, n + 1):\n",
    "        s_i = s[i -1]\n",
    "        for j in range(1, m + 1):\n",
    "            t_j = t[j -1]\n",
    "            cost = 0 if s_i == t_j else 1\n",
    "            d[i][j] = Minimum(d[i - 1][j] + 1, d[i][j - 1] + 1,\n",
    "                d[i - 1][j - 1] + cost)\n",
    "    # print(d)\n",
    "    return d[n][m]\n",
    "\n",
    "\n",
    "getEditDistance('三','山')"
   ]
  },
  {
   "cell_type": "code",
   "execution_count": 5,
   "metadata": {},
   "outputs": [],
   "source": [
    "texts =  [\n",
    "        '真麻烦你了。希望你们好好的跳舞',\n",
    "        '少先队员因该为老人让坐',\n",
    "        '机七学习是人工智能领遇最能体现智能的一个分知',\n",
    "        '一只小鱼船浮在平净的河面上',\n",
    "        '我的家乡是有明的渔米之乡',\n",
    "    ]"
   ]
  },
  {
   "cell_type": "code",
   "execution_count": 6,
   "metadata": {},
   "outputs": [],
   "source": [
    "def get_corrected(texts):\n",
    "    ls = corrector(texts)\n",
    "    print(ls)\n",
    "    corrected_texts = []\n",
    "    positions =[]\n",
    "    for i in ls:\n",
    "        corrected_texts += [i['target']]\n",
    "        positions += [i['errors']]    \n",
    "    return corrected_texts , positions"
   ]
  },
  {
   "cell_type": "code",
   "execution_count": 7,
   "metadata": {},
   "outputs": [
    {
     "name": "stdout",
     "output_type": "stream",
     "text": [
      "[{'source': '真麻烦你了。希望你们好好的跳舞', 'target': '真麻烦你了。希望你们好好地跳舞', 'errors': [{'position': 12, 'correction': {'的': '地'}}]}, {'source': '少先队员因该为老人让坐', 'target': '少先队员应该为老人让座', 'errors': [{'position': 4, 'correction': {'因': '应'}}, {'position': 10, 'correction': {'坐': '座'}}]}, {'source': '机七学习是人工智能领遇最能体现智能的一个分知', 'target': '机器学习是人工智能领域最能体现智能的一个分之', 'errors': [{'position': 1, 'correction': {'七': '器'}}, {'position': 10, 'correction': {'遇': '域'}}, {'position': 21, 'correction': {'知': '之'}}]}, {'source': '一只小鱼船浮在平净的河面上', 'target': '一只小鱼船浮在平净的河面上', 'errors': []}, {'source': '我的家乡是有明的渔米之乡', 'target': '我的家乡是有名的渔米之乡', 'errors': [{'position': 6, 'correction': {'明': '名'}}]}]\n"
     ]
    }
   ],
   "source": [
    "corrected,positons = get_corrected(texts)"
   ]
  },
  {
   "cell_type": "code",
   "execution_count": 8,
   "metadata": {},
   "outputs": [],
   "source": [
    "def get_tag_changes(correction):\n",
    "    res = [{'source':correction[0]['source']}]\n",
    "    if correction[0]['errors'] == []:\n",
    "        return res , 'No errors detected'\n",
    "    else:\n",
    "        source_tags = tagger(correction[0]['source'])\n",
    "        target_tags = tagger(correction[0]['target'])\n",
    "        for i in correction[0]['errors']:\n",
    "            t = list(i['correction'].keys())[0]\n",
    "            s = list(i['correction'].values())[0]\n",
    "\n",
    "            sentence_length = 0\n",
    "            for j in source_tags:\n",
    "                sentence_length += len(j[0])\n",
    "                if sentence_length >= i['position']+1:\n",
    "                    break\n",
    "                \n",
    "            sentence_length = 0\n",
    "            for k in target_tags:\n",
    "                sentence_length += len(k[0])\n",
    "                if sentence_length >= i['position']+1:\n",
    "                    break\n",
    "            \n",
    "            # check if typo\n",
    "            typo = False\n",
    "            for char in k[0]:\n",
    "                if getEditDistance(j[0],char) <=2 :\n",
    "                    typo = True\n",
    "\n",
    "            if typo == True:\n",
    "                resdict = {'position':i['position'],'tag_source':k[1],'target_tag':k[1],'target_word':k[0]}\n",
    "            else:\n",
    "                resdict = {'position':i['position'],'tag_source':j[1],'target_tag':k[1],'target_word':k[0]}\n",
    "            \n",
    "            res.append(resdict)\n",
    "\n",
    "\n",
    "        return res\n",
    "\n",
    "\n"
   ]
  },
  {
   "cell_type": "code",
   "execution_count": 9,
   "metadata": {},
   "outputs": [],
   "source": [
    "texts = [\n",
    "    \"我睡觉得很多，没有意思。\",\n",
    "    \"我跟朋友说，我想看看那边，到底真的有同性人吗？\",\n",
    "    \"然后，我们要去下一个节目，但是所有的活动都要排队，而且等候时间差不多100分\",\n",
    "    \"我喜欢它，因为它是简单的和安静。\",\n",
    "    \"因为她会说一点儿英语和日语，所以她英语和日语的歌曲，当然还中文唱歌。\",\n",
    "    \"如果我不能那些问题获得好分数的话，考试合格很难。\"\n",
    "]"
   ]
  },
  {
   "cell_type": "code",
   "execution_count": 13,
   "metadata": {},
   "outputs": [],
   "source": [
    "def helper_ernie(texts):\n",
    "    return [i['target'] for i in  corrector(texts)]"
   ]
  },
  {
   "cell_type": "code",
   "execution_count": 17,
   "metadata": {},
   "outputs": [],
   "source": [
    "p = helper_ernie"
   ]
  },
  {
   "cell_type": "code",
   "execution_count": 18,
   "metadata": {},
   "outputs": [
    {
     "data": {
      "text/plain": [
       "['我睡觉得很多，没有意思。',\n",
       " '我跟朋友说，我想看看那边，到底真的有同性人吗？',\n",
       " '然后，我们要去下一个节目，但是所有的活动都要排队，而且等候时间差不多100分',\n",
       " '我喜欢它，因为它是简单的和安静。',\n",
       " '因为她会说一点儿英语和日语，所以她英语和日语的歌曲，当然还中文唱歌。',\n",
       " '如果我不能哪些问题获得好分数的话，考试合格很难。']"
      ]
     },
     "execution_count": 18,
     "metadata": {},
     "output_type": "execute_result"
    }
   ],
   "source": [
    "p(texts)"
   ]
  },
  {
   "cell_type": "code",
   "execution_count": 11,
   "metadata": {},
   "outputs": [
    {
     "name": "stdout",
     "output_type": "stream",
     "text": [
      "No errors detected\n",
      "No errors detected\n",
      "No errors detected\n",
      "No errors detected\n",
      "No errors detected\n",
      "{'position': 5, 'tag_source': 'r', 'target_tag': 'r', 'target_word': '哪些'}\n"
     ]
    }
   ],
   "source": [
    "for i in texts:\n",
    "    correction =  corrector(i)\n",
    "    print(get_tag_changes(correction)[1])"
   ]
  }
 ],
 "metadata": {
  "kernelspec": {
   "display_name": "Python 3",
   "language": "python",
   "name": "python3"
  },
  "language_info": {
   "codemirror_mode": {
    "name": "ipython",
    "version": 3
   },
   "file_extension": ".py",
   "mimetype": "text/x-python",
   "name": "python",
   "nbconvert_exporter": "python",
   "pygments_lexer": "ipython3",
   "version": "3.10.8"
  },
  "orig_nbformat": 4,
  "vscode": {
   "interpreter": {
    "hash": "3196968d684371006099b3d55edeef8ed90365227a30deaef86e5d4aa8519be0"
   }
  }
 },
 "nbformat": 4,
 "nbformat_minor": 2
}
